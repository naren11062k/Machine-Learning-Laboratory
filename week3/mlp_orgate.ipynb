{
 "cells": [
  {
   "cell_type": "code",
   "execution_count": 1,
   "metadata": {
    "id": "2kFYc4pLpM-a"
   },
   "outputs": [],
   "source": [
    "import numpy as np \n",
    "def sigmoid (x): #activation fn - sigmoid (gives either 0 or 1 viz. what we require)\n",
    "    return 1/(1 + np.exp(-x))\n",
    "\n",
    "def sigmoid_derivative(x): #derivative\n",
    "    return x * (1 - x)\n",
    "\n",
    "def mlp(inputs,expected_output,epochs=200,lr=0.25,inputLayerNeurons=2,hiddenLayerNeurons=2,outputLayerNeurons=1):\n",
    "    hidden_weights = np.random.uniform(size=(inputLayerNeurons,hiddenLayerNeurons)) #initialisation\n",
    "    hidden_bias =-1 *np.random.uniform(size=(1,hiddenLayerNeurons))\n",
    "    output_weights = np.random.uniform(size=(hiddenLayerNeurons,outputLayerNeurons))\n",
    "    output_bias =-1 *np.random.uniform(size=(1,outputLayerNeurons))\n",
    "    print(\"Initial hidden weights: \",end='')\n",
    "    print(*hidden_weights)\n",
    "    print(\"Initial hidden biases: \",end='')\n",
    "    print(*hidden_bias)\n",
    "    print(\"Initial output weights: \",end='')\n",
    "    print(*output_weights)\n",
    "    print(\"Initial output biases: \",end='')\n",
    "    print(*output_bias)\n",
    "    \n",
    "    for _ in range(epochs):\n",
    "        hidden_layer_activation = np.dot(inputs,hidden_weights) #dot product\n",
    "        hidden_layer_activation += hidden_bias #add bias\n",
    "        hidden_layer_output = sigmoid(hidden_layer_activation) #apply activation fn\n",
    "\n",
    "        output_layer_activation = np.dot(hidden_layer_output,output_weights) #dot product\n",
    "        output_layer_activation += output_bias #add bias\n",
    "        predicted_output = sigmoid(output_layer_activation) #apply activation fn\n",
    "\n",
    "        error = predicted_output-expected_output #error at o/p layer\n",
    "        d_predicted_output = error * sigmoid_derivative(predicted_output)\n",
    "\n",
    "        error_hidden_layer = d_predicted_output.dot(output_weights.T) #error in hidden layer\n",
    "        d_hidden_layer = error_hidden_layer * sigmoid_derivative(hidden_layer_output)\n",
    "\n",
    "        output_weights -= hidden_layer_output.T.dot(d_predicted_output) * lr #update the o/p layer weights\n",
    "        output_bias -= np.sum(d_predicted_output,axis=0,keepdims=True) * lr\n",
    "        hidden_weights -= inputs.T.dot(d_hidden_layer) * lr #update the hidden layer weights\n",
    "        hidden_bias -= np.sum(d_hidden_layer,axis=0,keepdims=True) * lr\n",
    "    return hidden_weights,hidden_bias,output_weights,output_bias,predicted_output #return all vals"
   ]
  },
  {
   "cell_type": "code",
   "execution_count": 2,
   "metadata": {
    "colab": {
     "base_uri": "https://localhost:8080/"
    },
    "id": "CHs987nnpM-g",
    "outputId": "8bfa79cf-1ada-4bbf-ddfb-105c8a930092",
    "scrolled": false
   },
   "outputs": [
    {
     "name": "stdout",
     "output_type": "stream",
     "text": [
      "Initial hidden weights: [0.78832021 0.48676972] [0.67148074 0.0853187 ]\n",
      "Initial hidden biases: [-0.81610766 -0.80157408]\n",
      "Initial output weights: [0.08428107] [0.6321461]\n",
      "Initial output biases: [-0.41448174]\n",
      "Final hidden weights: [1.55783228 1.5241065 ] [1.54760189 1.2563997 ]\n",
      "Final hidden bias: [-0.99513644 -0.92897081]\n",
      "Final output weights: [1.80248201] [1.84448496]\n",
      "Final output bias: [-1.05642796]\n",
      "\n",
      "Output from neural network after 200 epochs: \n",
      "[[0]\n",
      " [1]\n",
      " [1]\n",
      " [1]]\n"
     ]
    }
   ],
   "source": [
    "inputs = np.array([[0,0],[0,1],[1,0],[1,1]]) #i/p\n",
    "expected_output = np.array([[0],[1],[1],[1]]) #expected o/p\n",
    "\n",
    "hidden_weights,hidden_bias,output_weights,output_bias,predicted_output = mlp(inputs,expected_output) #call mlp\n",
    "\n",
    "print(\"Final hidden weights: \",end='')\n",
    "print(*hidden_weights)\n",
    "print(\"Final hidden bias: \",end='')\n",
    "print(*hidden_bias)\n",
    "print(\"Final output weights: \",end='')\n",
    "print(*output_weights)\n",
    "print(\"Final output bias: \",end='')\n",
    "print(*output_bias)\n",
    "\n",
    "print(\"\\nOutput from neural network after 200 epochs: \") #no of epochs\n",
    "print(np.around(predicted_output).astype(int)) #print predicted o/p"
   ]
  },
  {
   "cell_type": "code",
   "execution_count": null,
   "metadata": {
    "id": "do6_0RnbpM-i"
   },
   "outputs": [],
   "source": []
  }
 ],
 "metadata": {
  "colab": {
   "collapsed_sections": [],
   "name": "mlp_xorgate.ipynb",
   "provenance": []
  },
  "kernelspec": {
   "display_name": "Python 3",
   "language": "python",
   "name": "python3"
  },
  "language_info": {
   "codemirror_mode": {
    "name": "ipython",
    "version": 3
   },
   "file_extension": ".py",
   "mimetype": "text/x-python",
   "name": "python",
   "nbconvert_exporter": "python",
   "pygments_lexer": "ipython3",
   "version": "3.8.5"
  }
 },
 "nbformat": 4,
 "nbformat_minor": 1
}
