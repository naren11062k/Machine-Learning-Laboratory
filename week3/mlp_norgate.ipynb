{
 "cells": [
  {
   "cell_type": "code",
   "execution_count": 1,
   "metadata": {
    "id": "2kFYc4pLpM-a"
   },
   "outputs": [],
   "source": [
    "import numpy as np\n",
    "def sigmoid (x):\n",
    "    return 1/(1 + np.exp(-x))\n",
    "\n",
    "def sigmoid_derivative(x):\n",
    "    return x * (1 - x)\n",
    "\n",
    "def mlp(inputs,expected_output,epochs=400,lr=0.25,inputLayerNeurons=2,hiddenLayerNeurons=2,outputLayerNeurons=1):\n",
    "    hidden_weights = np.random.uniform(size=(inputLayerNeurons,hiddenLayerNeurons))\n",
    "    hidden_bias =-1 *np.random.uniform(size=(1,hiddenLayerNeurons))\n",
    "    output_weights = np.random.uniform(size=(hiddenLayerNeurons,outputLayerNeurons))\n",
    "    output_bias =-1 *np.random.uniform(size=(1,outputLayerNeurons))\n",
    "    print(\"Initial hidden weights: \",end='')\n",
    "    print(*hidden_weights)\n",
    "    print(\"Initial hidden biases: \",end='')\n",
    "    print(*hidden_bias)\n",
    "    print(\"Initial output weights: \",end='')\n",
    "    print(*output_weights)\n",
    "    print(\"Initial output biases: \",end='')\n",
    "    print(*output_bias)\n",
    "    \n",
    "    for i in range(epochs):\n",
    "        hidden_layer_activation = np.dot(inputs,hidden_weights)\n",
    "        hidden_layer_activation += hidden_bias\n",
    "        hidden_layer_output = sigmoid(hidden_layer_activation)\n",
    "\n",
    "        output_layer_activation = np.dot(hidden_layer_output,output_weights)\n",
    "        output_layer_activation += output_bias\n",
    "        predicted_output = sigmoid(output_layer_activation)\n",
    "\n",
    "        error = predicted_output-expected_output\n",
    "        \n",
    "        if i%100==0:\n",
    "            print(\"Iteration:\", i)\n",
    "            print(error)\n",
    "           \n",
    "        d_predicted_output = error * sigmoid_derivative(predicted_output)\n",
    "\n",
    "        error_hidden_layer = d_predicted_output.dot(output_weights.T)\n",
    "        d_hidden_layer = error_hidden_layer * sigmoid_derivative(hidden_layer_output)\n",
    "\n",
    "        output_weights -= hidden_layer_output.T.dot(d_predicted_output) * lr\n",
    "        output_bias -= np.sum(d_predicted_output,axis=0,keepdims=True) * lr\n",
    "        hidden_weights -= inputs.T.dot(d_hidden_layer) * lr\n",
    "        hidden_bias -= np.sum(d_hidden_layer,axis=0,keepdims=True) * lr\n",
    "    return hidden_weights,hidden_bias,output_weights,output_bias,predicted_output"
   ]
  },
  {
   "cell_type": "code",
   "execution_count": 2,
   "metadata": {
    "colab": {
     "base_uri": "https://localhost:8080/"
    },
    "id": "CHs987nnpM-g",
    "outputId": "8bfa79cf-1ada-4bbf-ddfb-105c8a930092"
   },
   "outputs": [
    {
     "name": "stdout",
     "output_type": "stream",
     "text": [
      "Initial hidden weights: [0.51634344 0.51280974] [0.3007779  0.85438774]\n",
      "Initial hidden biases: [-0.85705951 -0.75600401]\n",
      "Initial output weights: [0.1507766] [0.87669419]\n",
      "Initial output biases: [-0.34728655]\n",
      "Iteration: 0\n",
      "[[-0.50556116]\n",
      " [ 0.54178991]\n",
      " [ 0.52515077]\n",
      " [ 0.57319068]]\n",
      "Iteration: 100\n",
      "[[-0.74638156]\n",
      " [ 0.24182163]\n",
      " [ 0.23560767]\n",
      " [ 0.2234734 ]]\n",
      "Iteration: 200\n",
      "[[-0.69326308]\n",
      " [ 0.24906188]\n",
      " [ 0.24177224]\n",
      " [ 0.1953604 ]]\n",
      "Iteration: 300\n",
      "[[-0.5798947 ]\n",
      " [ 0.24702052]\n",
      " [ 0.2406773 ]\n",
      " [ 0.15038761]]\n",
      "Final hidden weights: [2.22474353 0.70412473] [2.09825645 1.05861972]\n",
      "Final hidden bias: [-1.2724541  -0.95137228]\n",
      "Final output weights: [-2.90772206] [-0.78383723]\n",
      "Final output bias: [1.11863957]\n",
      "\n",
      "Output from neural network after 400 epochs: \n",
      "[[1]\n",
      " [0]\n",
      " [0]\n",
      " [0]]\n"
     ]
    }
   ],
   "source": [
    "inputs = np.array([[0,0],[0,1],[1,0],[1,1]])\n",
    "expected_output = np.array([[1],[0],[0],[0]])\n",
    "\n",
    "hidden_weights,hidden_bias,output_weights,output_bias,predicted_output = mlp(inputs,expected_output)\n",
    "\n",
    "print(\"Final hidden weights: \",end='')\n",
    "print(*hidden_weights)\n",
    "print(\"Final hidden bias: \",end='')\n",
    "print(*hidden_bias)\n",
    "print(\"Final output weights: \",end='')\n",
    "print(*output_weights)\n",
    "print(\"Final output bias: \",end='')\n",
    "print(*output_bias)\n",
    "\n",
    "print(\"\\nOutput from neural network after 400 epochs: \")\n",
    "print(np.around(predicted_output).astype(int))"
   ]
  },
  {
   "cell_type": "code",
   "execution_count": null,
   "metadata": {
    "id": "do6_0RnbpM-i"
   },
   "outputs": [],
   "source": []
  }
 ],
 "metadata": {
  "colab": {
   "collapsed_sections": [],
   "name": "mlp_xorgate.ipynb",
   "provenance": []
  },
  "kernelspec": {
   "display_name": "Python 3",
   "language": "python",
   "name": "python3"
  },
  "language_info": {
   "codemirror_mode": {
    "name": "ipython",
    "version": 3
   },
   "file_extension": ".py",
   "mimetype": "text/x-python",
   "name": "python",
   "nbconvert_exporter": "python",
   "pygments_lexer": "ipython3",
   "version": "3.8.5"
  }
 },
 "nbformat": 4,
 "nbformat_minor": 1
}
