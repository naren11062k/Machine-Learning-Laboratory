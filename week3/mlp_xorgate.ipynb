{
 "cells": [
  {
   "cell_type": "code",
   "execution_count": 1,
   "metadata": {
    "id": "2kFYc4pLpM-a"
   },
   "outputs": [],
   "source": [
    "import numpy as np \n",
    "def sigmoid (x):\n",
    "    return 1/(1 + np.exp(-x))\n",
    "\n",
    "def sigmoid_derivative(x):\n",
    "    return x * (1 - x)\n",
    "\n",
    "def mlp(inputs,expected_output,epochs=2500,lr=0.25,inputLayerNeurons=2,hiddenLayerNeurons=2,outputLayerNeurons=1):\n",
    "    hidden_weights = np.random.uniform(size=(inputLayerNeurons,hiddenLayerNeurons))\n",
    "    hidden_bias =-1 *np.random.uniform(size=(1,hiddenLayerNeurons))\n",
    "    output_weights = np.random.uniform(size=(hiddenLayerNeurons,outputLayerNeurons))\n",
    "    output_bias =-1 *np.random.uniform(size=(1,outputLayerNeurons))\n",
    "    print(\"Initial hidden weights: \",end='')\n",
    "    print(*hidden_weights)\n",
    "    print(\"Initial hidden biases: \",end='')\n",
    "    print(*hidden_bias)\n",
    "    print(\"Initial output weights: \",end='')\n",
    "    print(*output_weights)\n",
    "    print(\"Initial output biases: \",end='')\n",
    "    print(*output_bias)\n",
    "    \n",
    "    for _ in range(epochs):\n",
    "        hidden_layer_activation = np.dot(inputs,hidden_weights)\n",
    "        hidden_layer_activation += hidden_bias\n",
    "        hidden_layer_output = sigmoid(hidden_layer_activation)\n",
    "\n",
    "        output_layer_activation = np.dot(hidden_layer_output,output_weights)\n",
    "        output_layer_activation += output_bias\n",
    "        predicted_output = sigmoid(output_layer_activation)\n",
    "\n",
    "        error = predicted_output-expected_output\n",
    "        d_predicted_output = error * sigmoid_derivative(predicted_output)\n",
    "\n",
    "        error_hidden_layer = d_predicted_output.dot(output_weights.T)\n",
    "        d_hidden_layer = error_hidden_layer * sigmoid_derivative(hidden_layer_output)\n",
    "\n",
    "        output_weights -= hidden_layer_output.T.dot(d_predicted_output) * lr\n",
    "        output_bias -= np.sum(d_predicted_output,axis=0,keepdims=True) * lr\n",
    "        hidden_weights -= inputs.T.dot(d_hidden_layer) * lr\n",
    "        hidden_bias -= np.sum(d_hidden_layer,axis=0,keepdims=True) * lr\n",
    "    return hidden_weights,hidden_bias,output_weights,output_bias,predicted_output"
   ]
  },
  {
   "cell_type": "code",
   "execution_count": 2,
   "metadata": {
    "colab": {
     "base_uri": "https://localhost:8080/"
    },
    "id": "CHs987nnpM-g",
    "outputId": "8bfa79cf-1ada-4bbf-ddfb-105c8a930092"
   },
   "outputs": [
    {
     "name": "stdout",
     "output_type": "stream",
     "text": [
      "Initial hidden weights: [0.39150779 0.19027248] [0.13311259 0.32836944]\n",
      "Initial hidden biases: [-0.37247113 -0.98791626]\n",
      "Initial output weights: [0.46082069] [0.99690666]\n",
      "Initial output biases: [-0.95671546]\n",
      "Final hidden weights: [ 4.06151078 -4.8901494 ] [-4.31202537  4.77695024]\n",
      "Final hidden bias: [-2.30751608 -2.8387845 ]\n",
      "Final output weights: [5.99392724] [5.96854027]\n",
      "Final output bias: [-2.93711915]\n",
      "\n",
      "Output from neural network after 2500 epochs: \n",
      "[[0]\n",
      " [1]\n",
      " [1]\n",
      " [0]]\n"
     ]
    }
   ],
   "source": [
    "inputs = np.array([[0,0],[0,1],[1,0],[1,1]])\n",
    "expected_output = np.array([[0],[1],[1],[0]])\n",
    "\n",
    "hidden_weights,hidden_bias,output_weights,output_bias,predicted_output = mlp(inputs,expected_output)\n",
    "\n",
    "print(\"Final hidden weights: \",end='')\n",
    "print(*hidden_weights)\n",
    "print(\"Final hidden bias: \",end='')\n",
    "print(*hidden_bias)\n",
    "print(\"Final output weights: \",end='')\n",
    "print(*output_weights)\n",
    "print(\"Final output bias: \",end='')\n",
    "print(*output_bias)\n",
    "\n",
    "print(\"\\nOutput from neural network after 2500 epochs: \")\n",
    "print(np.around(predicted_output).astype(int))"
   ]
  },
  {
   "cell_type": "code",
   "execution_count": null,
   "metadata": {
    "id": "do6_0RnbpM-i"
   },
   "outputs": [],
   "source": []
  }
 ],
 "metadata": {
  "colab": {
   "collapsed_sections": [],
   "name": "mlp_xorgate.ipynb",
   "provenance": []
  },
  "kernelspec": {
   "display_name": "Python 3",
   "language": "python",
   "name": "python3"
  },
  "language_info": {
   "codemirror_mode": {
    "name": "ipython",
    "version": 3
   },
   "file_extension": ".py",
   "mimetype": "text/x-python",
   "name": "python",
   "nbconvert_exporter": "python",
   "pygments_lexer": "ipython3",
   "version": "3.8.5"
  }
 },
 "nbformat": 4,
 "nbformat_minor": 1
}
