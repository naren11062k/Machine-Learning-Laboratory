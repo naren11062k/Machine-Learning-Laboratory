{
 "cells": [
  {
   "cell_type": "code",
   "execution_count": 1,
   "metadata": {},
   "outputs": [],
   "source": [
    "# importing libraries\n",
    "import numpy as np\n",
    "import pandas as pd"
   ]
  },
  {
   "cell_type": "code",
   "execution_count": 2,
   "metadata": {},
   "outputs": [],
   "source": [
    "# reading dataset (csv file) using pandas\n",
    "dataset = pd.read_csv('appearance.csv')"
   ]
  },
  {
   "cell_type": "code",
   "execution_count": 3,
   "metadata": {},
   "outputs": [
    {
     "name": "stdout",
     "output_type": "stream",
     "text": [
      "    hair   body likesSimon      pose     smile smart  c(d)\n",
      "0  blond   thin        yes  arrogant    toothy    no     1\n",
      "1  brown   thin         no   natural  pleasant   yes     0\n",
      "2  blond  plump        yes     goofy  pleasant    no     1\n",
      "3  black   thin         no  arrogant      none    no     0\n",
      "4  blond   plum         no   natural    toothy   yes     0\n"
     ]
    }
   ],
   "source": [
    "#printing dataset\n",
    "print(dataset) "
   ]
  },
  {
   "cell_type": "code",
   "execution_count": 4,
   "metadata": {},
   "outputs": [],
   "source": [
    "# an array with except last column entries\n",
    "x_attr = np.array(dataset)[:,:-1]"
   ]
  },
  {
   "cell_type": "code",
   "execution_count": 5,
   "metadata": {},
   "outputs": [
    {
     "name": "stdout",
     "output_type": "stream",
     "text": [
      "[['blond' 'thin' 'yes' 'arrogant' 'toothy' 'no']\n",
      " ['brown' 'thin' 'no' 'natural' 'pleasant' 'yes']\n",
      " ['blond' 'plump' 'yes' 'goofy' 'pleasant' 'no']\n",
      " ['black' 'thin' 'no' 'arrogant' 'none' 'no']\n",
      " ['blond' 'plum' 'no' 'natural' 'toothy' 'yes']]\n"
     ]
    }
   ],
   "source": [
    "# print the array\n",
    "print(x_attr)"
   ]
  },
  {
   "cell_type": "code",
   "execution_count": 6,
   "metadata": {},
   "outputs": [],
   "source": [
    "# an array with only last column entries\n",
    "res = np.array(dataset)[:,-1]"
   ]
  },
  {
   "cell_type": "code",
   "execution_count": 7,
   "metadata": {},
   "outputs": [
    {
     "name": "stdout",
     "output_type": "stream",
     "text": [
      "[1 0 1 0 0]\n"
     ]
    }
   ],
   "source": [
    "# print the array\n",
    "print(res)"
   ]
  },
  {
   "cell_type": "code",
   "execution_count": 8,
   "metadata": {},
   "outputs": [],
   "source": [
    "# for loop to set specific hypothesis when res is 1\n",
    "for i,val in enumerate(x_attr):\n",
    "    if res[i] == 1:\n",
    "        specific_hyp = val\n",
    "        break\n",
    "    else:\n",
    "        pass"
   ]
  },
  {
   "cell_type": "code",
   "execution_count": 9,
   "metadata": {},
   "outputs": [
    {
     "name": "stdout",
     "output_type": "stream",
     "text": [
      "['blond' 'thin' 'yes' 'arrogant' 'toothy' 'no']\n"
     ]
    }
   ],
   "source": [
    "# print specific hypothesis\n",
    "print(specific_hyp)"
   ]
  },
  {
   "cell_type": "code",
   "execution_count": 10,
   "metadata": {},
   "outputs": [],
   "source": [
    "# placing ? in general hypothesis which is equal to no of attributes in dataset\n",
    "general_hyp = [['?' for i in range(len(specific_hyp))] for j in range(len(specific_hyp))]"
   ]
  },
  {
   "cell_type": "code",
   "execution_count": 11,
   "metadata": {},
   "outputs": [
    {
     "name": "stdout",
     "output_type": "stream",
     "text": [
      "[['?', '?', '?', '?', '?', '?'], ['?', '?', '?', '?', '?', '?'], ['?', '?', '?', '?', '?', '?'], ['?', '?', '?', '?', '?', '?'], ['?', '?', '?', '?', '?', '?'], ['?', '?', '?', '?', '?', '?']]\n"
     ]
    }
   ],
   "source": [
    "# print general hypothesis\n",
    "print(general_hyp)"
   ]
  },
  {
   "cell_type": "code",
   "execution_count": 12,
   "metadata": {},
   "outputs": [
    {
     "name": "stdout",
     "output_type": "stream",
     "text": [
      "Iteration  0\n",
      "Specific Hypothesis: \n",
      "['blond' 'thin' 'yes' 'arrogant' 'toothy' 'no']\n",
      "General Hypothesis: \n",
      "[['?', '?', '?', '?', '?', '?'], ['?', '?', '?', '?', '?', '?'], ['?', '?', '?', '?', '?', '?'], ['?', '?', '?', '?', '?', '?'], ['?', '?', '?', '?', '?', '?'], ['?', '?', '?', '?', '?', '?']]\n",
      "\n",
      "\n",
      "Iteration  1\n",
      "Specific Hypothesis: \n",
      "['blond' 'thin' 'yes' 'arrogant' 'toothy' 'no']\n",
      "General Hypothesis: \n",
      "[['blond', '?', '?', '?', '?', '?'], ['?', '?', '?', '?', '?', '?'], ['?', '?', 'yes', '?', '?', '?'], ['?', '?', '?', 'arrogant', '?', '?'], ['?', '?', '?', '?', 'toothy', '?'], ['?', '?', '?', '?', '?', 'no']]\n",
      "\n",
      "\n",
      "Iteration  2\n",
      "Specific Hypothesis: \n",
      "['blond' '?' 'yes' '?' '?' 'no']\n",
      "General Hypothesis: \n",
      "[['blond', '?', '?', '?', '?', '?'], ['?', '?', '?', '?', '?', '?'], ['?', '?', 'yes', '?', '?', '?'], ['?', '?', '?', '?', '?', '?'], ['?', '?', '?', '?', '?', '?'], ['?', '?', '?', '?', '?', 'no']]\n",
      "\n",
      "\n",
      "Iteration  3\n",
      "Specific Hypothesis: \n",
      "['blond' '?' 'yes' '?' '?' 'no']\n",
      "General Hypothesis: \n",
      "[['blond', '?', '?', '?', '?', '?'], ['?', '?', '?', '?', '?', '?'], ['?', '?', 'yes', '?', '?', '?'], ['?', '?', '?', '?', '?', '?'], ['?', '?', '?', '?', '?', '?'], ['?', '?', '?', '?', '?', '?']]\n",
      "\n",
      "\n",
      "Iteration  4\n",
      "Specific Hypothesis: \n",
      "['blond' '?' 'yes' '?' '?' 'no']\n",
      "General Hypothesis: \n",
      "[['?', '?', '?', '?', '?', '?'], ['?', '?', '?', '?', '?', '?'], ['?', '?', 'yes', '?', '?', '?'], ['?', '?', '?', '?', '?', '?'], ['?', '?', '?', '?', '?', '?'], ['?', '?', '?', '?', '?', 'no']]\n",
      "\n",
      "\n"
     ]
    }
   ],
   "source": [
    "# for loop for candidate elimination algorithm\n",
    "for i,val in enumerate(x_attr):                               # iterate through x_attr\n",
    "    if res[i] == 1:                                           # check if res is 1\n",
    "        for j in range(len(specific_hyp)):                    # if yes iterate until length of specific_hyp (no of attr)\n",
    "            if specific_hyp[j] != val[j]:                     # if current val's attr not equal to specific_yp's attr\n",
    "                specific_hyp[j] = '?'                         # place ? ie. generalise\n",
    "                general_hyp[j][j] = '?'                       # place ?\n",
    "    else :                                                    # if res is 0\n",
    "        for j in range(len(specific_hyp)):                    # iterate until length of specific_yp (no of attr)\n",
    "            if specific_hyp[j] != val[j]:                     # if current val's attr not equal to specific_hyp's attr\n",
    "                general_hyp[j][j] = specific_hyp[j]           # general_yp is made more specific (specific_hyp attr assigned)\n",
    "            else:                                             # if if current val's attr equal to specific_hyp's attr\n",
    "                 general_hyp[j][j] = '?'                      # place ?\n",
    "    print('Iteration ',i)\n",
    "    print('Specific Hypothesis: ')\n",
    "    print(specific_hyp)                                       # print specific_hyp for each iteration\n",
    "    print('General Hypothesis: ')\n",
    "    print(general_hyp)                                        # print general_hyp for each iteration\n",
    "    print(\"\\n\")          "
   ]
  },
  {
   "cell_type": "code",
   "execution_count": null,
   "metadata": {},
   "outputs": [],
   "source": []
  }
 ],
 "metadata": {
  "kernelspec": {
   "display_name": "Python 3",
   "language": "python",
   "name": "python3"
  },
  "language_info": {
   "codemirror_mode": {
    "name": "ipython",
    "version": 3
   },
   "file_extension": ".py",
   "mimetype": "text/x-python",
   "name": "python",
   "nbconvert_exporter": "python",
   "pygments_lexer": "ipython3",
   "version": "3.8.5"
  }
 },
 "nbformat": 4,
 "nbformat_minor": 4
}
