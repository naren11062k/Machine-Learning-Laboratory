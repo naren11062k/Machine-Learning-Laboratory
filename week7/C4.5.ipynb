{
 "cells": [
  {
   "cell_type": "code",
   "execution_count": 1,
   "metadata": {},
   "outputs": [
    {
     "name": "stdout",
     "output_type": "stream",
     "text": [
      "<?xml version=\"1.0\" ?>\r\n",
      "<DecisionTree>\r\n",
      "\t<petallengthcm value=\"3.0\" flag=\"l\" p=\"0.293\">0</petallengthcm>\r\n",
      "\t<petallengthcm value=\"3.0\" flag=\"r\" p=\"0.707\">\r\n",
      "\t\t<petalwidthcm value=\"1.7\" flag=\"l\" p=\"0.491\">1</petalwidthcm>\r\n",
      "\t\t<petalwidthcm value=\"1.7\" flag=\"r\" p=\"0.509\">\r\n",
      "\t\t\t<petallengthcm value=\"4.9\" flag=\"l\" p=\"0.148\">\r\n",
      "\t\t\t\t<sepalwidthcm value=\"3.2\" flag=\"l\" p=\"0.75\">2</sepalwidthcm>\r\n",
      "\t\t\t\t<sepalwidthcm value=\"3.2\" flag=\"r\" p=\"0.25\">1</sepalwidthcm>\r\n",
      "\t\t\t</petallengthcm>\r\n",
      "\t\t\t<petallengthcm value=\"4.9\" flag=\"r\" p=\"0.852\">2</petallengthcm>\r\n",
      "\t\t</petalwidthcm>\r\n",
      "\t</petallengthcm>\r\n",
      "</DecisionTree>\r\n",
      "\n"
     ]
    }
   ],
   "source": [
    "from sklearn.datasets import load_iris\n",
    "from sklearn.model_selection import train_test_split\n",
    "from sklearn.metrics import confusion_matrix\n",
    "from sklearn.metrics import classification_report\n",
    "from sklearn.metrics import accuracy_score\n",
    "from c45 import C45\n",
    "\n",
    "iris = load_iris()\n",
    "clf = C45(attrNames=iris.feature_names)\n",
    "X_train, X_test, y_train, y_test = train_test_split(iris.data, iris.target, test_size=0.5)\n",
    "clf.fit(X_train, y_train)\n",
    "y_pred = clf.predict(X_test)\n",
    "clf.printTree()"
   ]
  },
  {
   "cell_type": "code",
   "execution_count": 2,
   "metadata": {},
   "outputs": [
    {
     "name": "stdout",
     "output_type": "stream",
     "text": [
      "Accuracy: 0.9333333333333333\n"
     ]
    }
   ],
   "source": [
    "print(f'Accuracy: {clf.score(X_test, y_test)}')"
   ]
  },
  {
   "cell_type": "code",
   "execution_count": 3,
   "metadata": {},
   "outputs": [
    {
     "name": "stdout",
     "output_type": "stream",
     "text": [
      "Confusion Matrix:\n",
      "\n",
      "[[28  0  0]\n",
      " [ 0 22  1]\n",
      " [ 0  4 20]]\n",
      "\n",
      "Classification Report:\n",
      "\n",
      "              precision    recall  f1-score   support\n",
      "\n",
      "           0       1.00      1.00      1.00        28\n",
      "           1       0.85      0.96      0.90        23\n",
      "           2       0.95      0.83      0.89        24\n",
      "\n",
      "    accuracy                           0.93        75\n",
      "   macro avg       0.93      0.93      0.93        75\n",
      "weighted avg       0.94      0.93      0.93        75\n",
      "\n"
     ]
    }
   ],
   "source": [
    "results = confusion_matrix(y_test, y_pred) \n",
    "print ('Confusion Matrix:\\n')\n",
    "print(results)\n",
    "print ('\\nClassification Report:\\n')\n",
    "print(classification_report(y_test, y_pred))"
   ]
  }
 ],
 "metadata": {
  "kernelspec": {
   "display_name": "Python 3",
   "language": "python",
   "name": "python3"
  },
  "language_info": {
   "codemirror_mode": {
    "name": "ipython",
    "version": 3
   },
   "file_extension": ".py",
   "mimetype": "text/x-python",
   "name": "python",
   "nbconvert_exporter": "python",
   "pygments_lexer": "ipython3",
   "version": "3.8.5"
  }
 },
 "nbformat": 4,
 "nbformat_minor": 4
}
