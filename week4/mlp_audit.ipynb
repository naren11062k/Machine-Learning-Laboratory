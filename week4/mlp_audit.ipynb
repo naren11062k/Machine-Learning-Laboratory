{
 "cells": [
  {
   "cell_type": "code",
   "execution_count": 1,
   "metadata": {},
   "outputs": [],
   "source": [
    "import numpy as np\n",
    "import pandas as pd\n",
    "from sklearn.metrics import classification_report\n",
    "from sklearn.metrics import confusion_matrix\n",
    "from sklearn.metrics import r2_score\n",
    "from sklearn.metrics import roc_curve\n",
    "import matplotlib.pyplot as plt"
   ]
  },
  {
   "cell_type": "code",
   "execution_count": 2,
   "metadata": {},
   "outputs": [],
   "source": [
    "audit_risk = pd.read_csv(\"audit_risk.csv\")\n",
    "audit_risk = audit_risk.sample(frac=1).reset_index(drop=True)"
   ]
  },
  {
   "cell_type": "code",
   "execution_count": 3,
   "metadata": {},
   "outputs": [
    {
     "data": {
      "text/plain": [
       "array([[ 3.89, 12.  ,  0.  , ...,  0.  ,  2.  ,  2.  ],\n",
       "       [ 3.89, 37.  ,  2.4 , ...,  0.  ,  2.  ,  3.6 ],\n",
       "       [ 3.89,  5.  ,  0.  , ...,  0.  ,  2.  ,  2.  ],\n",
       "       ...,\n",
       "       [ 3.89, 19.  ,  1.32, ...,  0.  ,  2.  ,  2.2 ],\n",
       "       [ 3.89,  8.  ,  3.98, ...,  0.  ,  2.  ,  2.4 ],\n",
       "       [ 3.89, 11.  ,  0.  , ...,  0.  ,  2.  ,  2.  ]])"
      ]
     },
     "execution_count": 3,
     "metadata": {},
     "output_type": "execute_result"
    }
   ],
   "source": [
    "X = np.array(audit_risk)[:,:-1]\n",
    "X"
   ]
  },
  {
   "cell_type": "code",
   "execution_count": 4,
   "metadata": {},
   "outputs": [
    {
     "data": {
      "text/plain": [
       "array([[1., 0.],\n",
       "       [0., 1.],\n",
       "       [1., 0.],\n",
       "       [0., 1.],\n",
       "       [1., 0.]])"
      ]
     },
     "execution_count": 4,
     "metadata": {},
     "output_type": "execute_result"
    }
   ],
   "source": [
    "from sklearn.preprocessing import OneHotEncoder\n",
    "one_hot_encoder = OneHotEncoder(sparse=False)\n",
    "\n",
    "Y = audit_risk.Risk\n",
    "Y = one_hot_encoder.fit_transform(np.array(Y).reshape(-1, 1))\n",
    "Y[:5]"
   ]
  },
  {
   "cell_type": "code",
   "execution_count": 5,
   "metadata": {},
   "outputs": [],
   "source": [
    "from sklearn.model_selection import train_test_split\n",
    "X_train, X_test, Y_train, Y_test = train_test_split(X, Y, test_size=0.15)\n",
    "X_train, X_val, Y_train, Y_val = train_test_split(X_train, Y_train, test_size=0.1)"
   ]
  },
  {
   "cell_type": "code",
   "execution_count": 6,
   "metadata": {},
   "outputs": [],
   "source": [
    "def NeuralNetwork(X_train, Y_train, X_val=None, Y_val=None, epochs=10, nodes=[], lr=0.15):\n",
    "    hidden_layers = len(nodes) - 1\n",
    "    weights = InitializeWeights(nodes)\n",
    "\n",
    "    for epoch in range(1, epochs+1):\n",
    "        weights = Train(X_train, Y_train, lr, weights)\n",
    "\n",
    "        if(epoch % 20 == 0):\n",
    "            print(\"Epoch {}\".format(epoch))\n",
    "            print(\"Training Accuracy:{}\".format(Accuracy(X_train, Y_train, weights)))\n",
    "            if X_val.any():\n",
    "                print(\"Validation Accuracy:{}\".format(Accuracy(X_val, Y_val, weights)))\n",
    "            \n",
    "    return weights"
   ]
  },
  {
   "cell_type": "code",
   "execution_count": 7,
   "metadata": {},
   "outputs": [],
   "source": [
    "def InitializeWeights(nodes):\n",
    "    layers, weights = len(nodes), []\n",
    "    \n",
    "    for i in range(1, layers):\n",
    "        w = [[np.random.uniform(-1, 1) for k in range(nodes[i-1] + 1)]\n",
    "              for j in range(nodes[i])]\n",
    "        weights.append(np.matrix(w))\n",
    "    \n",
    "    return weights"
   ]
  },
  {
   "cell_type": "code",
   "execution_count": 8,
   "metadata": {},
   "outputs": [],
   "source": [
    "def ForwardPropagation(x, weights, layers):\n",
    "    activations, layer_input = [x], x\n",
    "    for j in range(layers):\n",
    "        activation = Sigmoid(np.dot(layer_input, weights[j].T))\n",
    "        activations.append(activation)\n",
    "        layer_input = np.append(1, activation) # Augment with bias\n",
    "    \n",
    "    return activations"
   ]
  },
  {
   "cell_type": "code",
   "execution_count": 9,
   "metadata": {},
   "outputs": [],
   "source": [
    "def BackPropagation(y, activations, weights, layers):\n",
    "    outputFinal = activations[-1]\n",
    "    error = np.matrix(y - outputFinal)\n",
    "    \n",
    "    for j in range(layers, 0, -1):\n",
    "        currActivation = activations[j]\n",
    "        \n",
    "        if(j > 1):\n",
    "            prevActivation = np.append(1, activations[j-1])\n",
    "        else:\n",
    "            prevActivation = activations[0]\n",
    "        \n",
    "        delta = np.multiply(error, SigmoidDerivative(currActivation))\n",
    "        weights[j-1] += lr * np.multiply(delta.T, prevActivation)\n",
    "\n",
    "        w = np.delete(weights[j-1], [0], axis=1)\n",
    "        error = np.dot(delta, w)\n",
    "    \n",
    "    return weights"
   ]
  },
  {
   "cell_type": "code",
   "execution_count": 10,
   "metadata": {},
   "outputs": [],
   "source": [
    "def Train(X, Y, lr, weights):\n",
    "    layers = len(weights)\n",
    "    for i in range(len(X)):\n",
    "        x, y = X[i], Y[i]\n",
    "        x = np.matrix(np.append(1, x)) # Augment feature vector\n",
    "        \n",
    "        activations = ForwardPropagation(x, weights, layers)\n",
    "        weights = BackPropagation(y, activations, weights, layers)   \n",
    "\n",
    "    return weights"
   ]
  },
  {
   "cell_type": "code",
   "execution_count": 11,
   "metadata": {},
   "outputs": [],
   "source": [
    "def Sigmoid(x):\n",
    "    return 1 / (1 + np.exp(-x))\n",
    "\n",
    "def SigmoidDerivative(x):\n",
    "    return np.multiply(x, 1-x)"
   ]
  },
  {
   "cell_type": "code",
   "execution_count": 12,
   "metadata": {},
   "outputs": [],
   "source": [
    "def Predict(item, weights):\n",
    "    layers = len(weights)\n",
    "    item = np.append(1, item)\n",
    "\n",
    "    activations = ForwardPropagation(item, weights, layers)\n",
    "    \n",
    "    outputFinal = activations[-1].A1\n",
    "    index = FindMaxActivation(outputFinal)\n",
    "\n",
    "    y = [0 for i in range(len(outputFinal))]\n",
    "    y[index] = 1\n",
    "    return y\n",
    "\n",
    "\n",
    "def FindMaxActivation(output):\n",
    "    m, index = output[0], 0\n",
    "    for i in range(1, len(output)):\n",
    "        if(output[i] > m):\n",
    "            m, index = output[i], i\n",
    "    \n",
    "    return index"
   ]
  },
  {
   "cell_type": "code",
   "execution_count": 13,
   "metadata": {},
   "outputs": [],
   "source": [
    "def Accuracy(X, Y, weights, display=False):\n",
    "    correct = 0\n",
    "\n",
    "    for i in range(len(X)):\n",
    "        x, y = X[i], list(Y[i])\n",
    "        guess = Predict(x, weights)\n",
    "        if display == True:\n",
    "            print(\"\\n\\nInput:\\n\",x,\"\\nPredicted:\\n\",guess,\"\\nActual:\\n\",y)\n",
    "        if(y == guess):\n",
    "            correct += 1\n",
    "        elif display == True:\n",
    "            print(\"mispredicted\")\n",
    "\n",
    "    return correct / len(X)"
   ]
  },
  {
   "cell_type": "code",
   "execution_count": 14,
   "metadata": {},
   "outputs": [
    {
     "name": "stdout",
     "output_type": "stream",
     "text": [
      "Epoch 20\n",
      "Training Accuracy:0.9210526315789473\n",
      "Validation Accuracy:0.7777777777777778\n",
      "Epoch 40\n",
      "Training Accuracy:0.9210526315789473\n",
      "Validation Accuracy:0.7777777777777778\n",
      "Epoch 60\n",
      "Training Accuracy:0.8947368421052632\n",
      "Validation Accuracy:0.8888888888888888\n",
      "Epoch 80\n",
      "Training Accuracy:0.9078947368421053\n",
      "Validation Accuracy:0.7777777777777778\n",
      "Epoch 100\n",
      "Training Accuracy:0.9736842105263158\n",
      "Validation Accuracy:0.7777777777777778\n",
      "Final weights:\n",
      " [matrix([[ 0.90008318,  0.99389123,  0.8938117 , -0.09512261, -0.77479806,\n",
      "         -0.74048295, -0.16501046, -0.39473867,  0.66029239, -0.56298664,\n",
      "          0.62883636, -0.99165375, -0.74190511,  0.46731325, -0.02121829,\n",
      "         -0.67902422, -0.46472677,  0.55567702],\n",
      "        [-0.02332138,  0.12820737,  1.03917046, -0.67259859, -0.62141953,\n",
      "          0.18132776,  0.48998548, -1.87976525, -0.17092305,  0.77345164,\n",
      "          0.72893399, -0.23792755,  1.13425315,  0.25686918,  1.08061822,\n",
      "          0.29986398, -0.56580707, -0.00469891],\n",
      "        [-1.01058083, -1.1468417 , -0.04791961,  1.37451143, -0.16882665,\n",
      "         -0.20427664,  0.69407033,  1.91160242, -1.4053683 ,  0.54990237,\n",
      "          2.05971052, -0.33560853, -0.08852402,  0.87804333, -0.44768282,\n",
      "          1.0360059 , -0.23257088,  0.12468951],\n",
      "        [-0.1132557 , -1.82045907,  0.64955638,  0.72926913,  0.9447654 ,\n",
      "          0.63015424, -1.01912543,  0.15773084, -1.91492517, -0.91176625,\n",
      "          1.26481014, -0.36854967,  2.54435016, -0.89341723, -0.18241147,\n",
      "         -0.52929335, -0.84855083, -0.88266039],\n",
      "        [-0.57141768,  0.44235368,  0.87158508, -0.87211822,  0.08268196,\n",
      "          0.91623796, -0.23039751,  0.43011027,  0.12591678,  0.69459038,\n",
      "          0.86955735,  0.82377297, -0.61648623,  0.06680968,  0.99452905,\n",
      "         -0.40553378, -0.43640091, -0.46315451]]), matrix([[ 0.25040085,  0.12209982, -1.1274832 , -0.1936497 ,  1.26756802,\n",
      "          0.50668957],\n",
      "        [ 0.95165658,  0.0726895 , -0.58397455,  0.35307629,  0.99209412,\n",
      "          1.06357938],\n",
      "        [ 0.49540391,  0.33724778,  1.27238947, -1.72879698, -1.51069978,\n",
      "         -0.55240772],\n",
      "        [ 0.15631773,  0.91389776,  1.41393807, -1.99502245, -1.81379559,\n",
      "         -0.44332451],\n",
      "        [-0.52161458,  0.47393745, -0.39941971,  1.16393219,  0.92007894,\n",
      "          0.70712876],\n",
      "        [ 0.79482025,  0.63591184, -0.31839091, -1.49890429, -1.40460371,\n",
      "         -0.06920113],\n",
      "        [ 0.50281413, -0.08754382, -0.19011475,  1.40546795,  0.5537481 ,\n",
      "          0.00305122],\n",
      "        [ 0.17102484, -0.80610965, -1.30618513,  1.83919001,  1.84344644,\n",
      "          0.26384408],\n",
      "        [ 0.29664529,  0.38912837,  0.45402434, -1.18386503, -0.70936606,\n",
      "         -0.31819614],\n",
      "        [-0.1878145 ,  0.52335224,  0.5083729 ,  0.45900849, -0.70943952,\n",
      "          0.83014877]]), matrix([[-0.43970954, -0.82290425,  0.01664338,  2.05065065,  2.26876163,\n",
      "         -1.2675512 ,  0.55164412, -0.95875101, -2.20548156,  0.42155811,\n",
      "         -0.15334359],\n",
      "        [ 0.52250076,  0.64858906,  0.86416096, -1.04992291, -2.1566368 ,\n",
      "          0.32163912, -1.68889838,  1.69642669,  1.94265336, -1.2264763 ,\n",
      "          0.02893391]])]\n"
     ]
    }
   ],
   "source": [
    "f = len(X[0])\n",
    "o = len(Y[0])\n",
    "\n",
    "layers = [f, 5, 10, o]\n",
    "lr, epochs = 0.15, 100\n",
    "\n",
    "weights = NeuralNetwork(X_train, Y_train, X_val, Y_val, epochs=epochs, nodes=layers, lr=lr);\n",
    "print(\"Final weights:\\n\",weights)"
   ]
  },
  {
   "cell_type": "code",
   "execution_count": 15,
   "metadata": {},
   "outputs": [
    {
     "name": "stdout",
     "output_type": "stream",
     "text": [
      "\n",
      "\n",
      "Input:\n",
      " [ 3.89 11.    0.    2.    6.8   4.    6.8   5.    2.   47.9   6.    2.\n",
      "  0.    2.    0.    2.    3.  ] \n",
      "Predicted:\n",
      " [0, 1] \n",
      "Actual:\n",
      " [0.0, 1.0]\n",
      "\n",
      "\n",
      "Input:\n",
      " [3.89 6.   0.   2.   0.83 2.   0.83 5.   2.   2.95 2.   2.   0.   2.\n",
      " 0.   2.   2.  ] \n",
      "Predicted:\n",
      " [1, 0] \n",
      "Actual:\n",
      " [1.0, 0.0]\n",
      "\n",
      "\n",
      "Input:\n",
      " [ 3.89 16.    1.19  4.   12.88  6.   14.07  5.    2.    2.33  2.    6.\n",
      "  0.    2.    0.    2.    3.8 ] \n",
      "Predicted:\n",
      " [0, 1] \n",
      "Actual:\n",
      " [0.0, 1.0]\n",
      "\n",
      "\n",
      "Input:\n",
      " [ 3.89 31.    1.99  4.   10.24  6.   12.23  5.    2.   20.78  6.    2.\n",
      "  0.    2.    0.    2.    3.8 ] \n",
      "Predicted:\n",
      " [0, 1] \n",
      "Actual:\n",
      " [0.0, 1.0]\n",
      "\n",
      "\n",
      "Input:\n",
      " [ 3.89 37.    2.4   6.   16.63  6.   19.03  5.    2.    1.16  2.    2.\n",
      "  0.    2.    0.    2.    3.6 ] \n",
      "Predicted:\n",
      " [0, 1] \n",
      "Actual:\n",
      " [0.0, 1.0]\n",
      "\n",
      "\n",
      "Input:\n",
      " [3.89 3.   0.94 2.   0.01 2.   0.95 5.   2.   0.1  2.   2.   0.   2.\n",
      " 0.   2.   2.  ] \n",
      "Predicted:\n",
      " [1, 0] \n",
      "Actual:\n",
      " [1.0, 0.0]\n",
      "\n",
      "\n",
      "Input:\n",
      " [ 3.89 22.    0.    2.   18.05  6.   18.05  5.    2.    2.29  2.    2.\n",
      "  0.    2.    0.    2.    3.2 ] \n",
      "Predicted:\n",
      " [0, 1] \n",
      "Actual:\n",
      " [0.0, 1.0]\n",
      "\n",
      "\n",
      "Input:\n",
      " [ 3.89 32.    1.22  4.    0.06  2.    1.28  5.    2.    0.    2.    4.\n",
      "  0.    2.    0.    2.    2.4 ] \n",
      "Predicted:\n",
      " [0, 1] \n",
      "Actual:\n",
      " [0.0, 1.0]\n",
      "\n",
      "\n",
      "Input:\n",
      " [ 3.89 12.    0.    2.    0.07  2.    0.07  5.    2.    0.    2.    2.\n",
      "  0.    2.    0.    2.    2.  ] \n",
      "Predicted:\n",
      " [1, 0] \n",
      "Actual:\n",
      " [1.0, 0.0]\n",
      "\n",
      "\n",
      "Input:\n",
      " [ 3.89 12.    0.    2.    0.03  2.    0.03  5.    2.    0.06  2.    2.\n",
      "  0.    2.    0.    2.    2.  ] \n",
      "Predicted:\n",
      " [1, 0] \n",
      "Actual:\n",
      " [1.0, 0.0]\n",
      "\n",
      "\n",
      "Input:\n",
      " [ 3.89 29.    0.    2.    0.96  2.    0.96  5.    2.    1.35  2.    2.\n",
      "  0.    2.    0.    2.    2.  ] \n",
      "Predicted:\n",
      " [0, 1] \n",
      "Actual:\n",
      " [1.0, 0.0]\n",
      "mispredicted\n",
      "\n",
      "\n",
      "Input:\n",
      " [3.8900e+00 5.0000e+00 0.0000e+00 2.0000e+00 5.0000e-02 2.0000e+00\n",
      " 5.0000e-02 5.0000e+00 2.0000e+00 1.5241e+02 6.0000e+00 2.0000e+00\n",
      " 0.0000e+00 2.0000e+00 0.0000e+00 2.0000e+00 2.4000e+00] \n",
      "Predicted:\n",
      " [0, 1] \n",
      "Actual:\n",
      " [0.0, 1.0]\n",
      "\n",
      "\n",
      "Input:\n",
      " [ 3.89 37.    1.81  4.    1.03  2.    2.84  5.    2.    0.    2.    2.\n",
      "  0.    2.    0.    2.    2.2 ] \n",
      "Predicted:\n",
      " [0, 1] \n",
      "Actual:\n",
      " [0.0, 1.0]\n",
      "\n",
      "\n",
      "Input:\n",
      " [ 3.89 19.    0.    2.    3.71  2.    3.71  5.    2.   29.63  6.    2.\n",
      "  0.    2.    0.    2.    2.4 ] \n",
      "Predicted:\n",
      " [0, 1] \n",
      "Actual:\n",
      " [0.0, 1.0]\n",
      "\n",
      "\n",
      "Input:\n",
      " [ 3.89 16.    0.    2.    0.08  2.    0.08  5.    2.    0.06  2.    6.\n",
      "  0.    2.    0.    2.    2.4 ] \n",
      "Predicted:\n",
      " [0, 1] \n",
      "Actual:\n",
      " [0.0, 1.0]\n",
      "Testing Accuracy: 0.9333333333333333\n"
     ]
    }
   ],
   "source": [
    "print(\"Testing Accuracy: {}\".format(Accuracy(X_test, Y_test, weights, display = True)))"
   ]
  },
  {
   "cell_type": "code",
   "execution_count": 16,
   "metadata": {},
   "outputs": [
    {
     "name": "stdout",
     "output_type": "stream",
     "text": [
      "R2 Score: 0.700000\n",
      "\n",
      "Classification Report:\n",
      "\n",
      "              precision    recall  f1-score   support\n",
      "\n",
      "           0       1.00      0.80      0.89         5\n",
      "           1       0.91      1.00      0.95        10\n",
      "\n",
      "   micro avg       0.93      0.93      0.93        15\n",
      "   macro avg       0.95      0.90      0.92        15\n",
      "weighted avg       0.94      0.93      0.93        15\n",
      " samples avg       0.93      0.93      0.93        15\n",
      "\n",
      "\n",
      "Confusion Matrix:\n",
      "\n",
      "[[ 4  1]\n",
      " [ 0 10]]\n"
     ]
    }
   ],
   "source": [
    "Y_result = []\n",
    "Converted = []\n",
    "Actual = []\n",
    "Prediction = []\n",
    "for x in X_test:\n",
    "    guess = Predict(x,weights)\n",
    "    Y_result.append(guess)\n",
    "    for i in range(len(guess)):\n",
    "        if guess[i] ==1:\n",
    "            Converted.append(i)\n",
    "for i in range(len(Y_test)):\n",
    "    for j in range(len(Y_test[0])):\n",
    "        if Y_test[i][j] ==1:\n",
    "            Actual.append(j)\n",
    "            \n",
    "print(\"R2 Score: %f\" % r2_score(Y_test,Y_result))\n",
    "print(\"\\nClassification Report:\\n\")\n",
    "print(classification_report(Y_test,Y_result))\n",
    "print(\"\\nConfusion Matrix:\\n\")\n",
    "print(confusion_matrix(Actual, Converted))"
   ]
  },
  {
   "cell_type": "code",
   "execution_count": 17,
   "metadata": {},
   "outputs": [
    {
     "data": {
      "image/png": "[encoded data removed]",
      "text/plain": [
       "<Figure size 432x288 with 1 Axes>"
      ]
     },
     "metadata": {
      "needs_background": "light"
     },
     "output_type": "display_data"
    }
   ],
   "source": [
    "ytest, yresult = [], []\n",
    "for i in range(len(Y_test)):\n",
    "    ytest.append(Y_test[i][0])\n",
    "    yresult.append(Y_result[i][0])\n",
    "    \n",
    "fpr, tpr, thresholds = roc_curve(ytest, yresult)\n",
    "\n",
    "def plot_roc_curve(fpr,tpr):\n",
    "    plt.plot(fpr, tpr, marker='.')\n",
    "    plt.axis([0,1,0,1])\n",
    "    plt.xlabel('False Positive Rate')\n",
    "    plt.ylabel('True Positive Rate')\n",
    "    plt.show()\n",
    "plot_roc_curve(fpr,tpr)"
   ]
  }
 ],
 "metadata": {
  "kernelspec": {
   "display_name": "Python 3",
   "language": "python",
   "name": "python3"
  },
  "language_info": {
   "codemirror_mode": {
    "name": "ipython",
    "version": 3
   },
   "file_extension": ".py",
   "mimetype": "text/x-python",
   "name": "python",
   "nbconvert_exporter": "python",
   "pygments_lexer": "ipython3",
   "version": "3.8.5"
  }
 },
 "nbformat": 4,
 "nbformat_minor": 4
}
